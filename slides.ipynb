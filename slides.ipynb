{
 "cells": [
  {
   "cell_type": "markdown",
   "metadata": {
    "slideshow": {
     "slide_type": "slide"
    }
   },
   "source": [
    "# Estimating Non-Linear Macroeconomic Models in Julia\n",
    "\n",
    "**Michael Cai** (github: @caimichael)\n",
    "\n",
    "Senior Research Analyst, Federal Reserve Bank of New York (github: @FRBNY-DSGE)\n",
    "\n",
    "<sub>*Special thanks to Ed Herbst and Frank Schorfheide for providing slide content from their 2017 CEF Workshop on Sequential Monte Carlo Methods and the Tempered Particle Filter."
   ]
  },
  {
   "cell_type": "markdown",
   "metadata": {
    "slideshow": {
     "slide_type": "slide"
    }
   },
   "source": [
    "# Disclaimer\n",
    "This talk reflects the experience of the author and does not represent an endorsement by the Federal Reserve Bank of New York or the Federal Reserve System of any particular product or service. The views expressed in this talk are those of the author and do not necessarily reflect the position of the Federal Reserve Bank of New York or the Federal Reserve System. Any errors or omissions are the responsibility of the author."
   ]
  },
  {
   "cell_type": "markdown",
   "metadata": {
    "slideshow": {
     "slide_type": "slide"
    }
   },
   "source": [
    "# Outline\n",
    "1. State Space Models and StateSpaceRoutines.jl\n",
    "2. The Tempered Particle Filter\n",
    "3. Computational Details\n",
    "4. Conclusion"
   ]
  },
  {
   "cell_type": "markdown",
   "metadata": {
    "slideshow": {
     "slide_type": "slide"
    }
   },
   "source": [
    "## State Space Models and StateSpaceRoutines.jl"
   ]
  },
  {
   "cell_type": "markdown",
   "metadata": {
    "slideshow": {
     "slide_type": "slide"
    }
   },
   "source": [
    "### Background\n",
    "\n",
    "- A dynamic stochastic general equilibrium (DSGE) model is a macroeconomic model built on microeconomic foundations that is used to forecast macroeconomic variables and to conduct policy exercises.\n",
    "\n",
    "\n",
    "- **DSGE models can be represented as state space models!**\n",
    "\n",
    "\n",
    "- In previous years, we have presented talks on our main package, [DSGE.jl](https://github.com/FRBNY-DSGE/DSGE.jl), a codebase for the estimation and forecasting of DSGE models. The package also implements various kinds of DSGE models, including our very own New York Fed DSGE model.\n",
    "\n",
    "(see [Pearl Li's talk](https://www.youtube.com/watch?v=NH9AgnbJmVA) on parallelized forecasting at JuliaCon2017 and [Erica Moszkowski's talk](https://www.youtube.com/watch?v=Vd2LJI3JLU0) on the DSGE.jl package at JuliaCon2016)"
   ]
  },
  {
   "cell_type": "markdown",
   "metadata": {
    "slideshow": {
     "slide_type": "slide"
    }
   },
   "source": [
    "### StateSpaceRoutines.jl\n",
    "\n",
    "**StateSpaceRoutines.jl** is a package containing a variety of filtering and smoothing methods for estimating state space models, including:\n",
    "- The Kalman filter and tempered particle filter.\n",
    "- Hamilton smoother, Durbin Koopman smoother, and others."
   ]
  },
  {
   "cell_type": "markdown",
   "metadata": {
    "slideshow": {
     "slide_type": "slide"
    }
   },
   "source": [
    "### What is a State Space Model?\n",
    "\n",
    "A **state space model** is a way to track the dynamic behavior of a set of unobserved variables by using noisy measurements.\n",
    "\n",
    "<img src=\"figures/rover.jpg\" width=\"400\">"
   ]
  },
  {
   "cell_type": "markdown",
   "metadata": {
    "slideshow": {
     "slide_type": "slide"
    }
   },
   "source": [
    "### How is a State Space Model Represented?\n",
    "\n",
    "A **general state space model** can be written as a system of two equations:\n",
    "\n",
    "**Transition:** $$s_t = \\Phi(\\theta)(s_{t-1}, \\epsilon_t) \\text{ , } \\epsilon_t \\sim F_\\epsilon(\\theta)$$\n",
    "\n",
    "**Measurement:** $$y_t = \\Psi(\\theta)(s_t) + u_t \\text{ , } u_t \\sim F_u(\\theta)$$\n",
    "\n",
    "### Example Variables from the New York Fed DSGE Model\n",
    "\n",
    "| Notation     | Name        | Examples                                   |\n",
    "| ----------------------------------------------------------------------- |\n",
    "| $s_t$        | States      | Output growth, inflation                   |\n",
    "| $y_t$        | Observables | Real GDP growth, core PCE inflation        |\n",
    "| $\\epsilon_t$ | Shocks      | Productivity shock, aggregate demand shock |\n",
    "| $\\theta$     | Parameters  | Household discount rate, inflation target  |"
   ]
  },
  {
   "cell_type": "markdown",
   "metadata": {
    "slideshow": {
     "slide_type": "slide"
    }
   },
   "source": [
    "### Why non-linear models?\n",
    "\n",
    "- Most linear models are linear approximations of a non-linear model.\n",
    "- Sometimes, the non-linearities in a model are *fundamental* to explaining certain phenomena."
   ]
  },
  {
   "cell_type": "markdown",
   "metadata": {
    "slideshow": {
     "slide_type": "slide"
    }
   },
   "source": [
    "### Examples of non-linear models\n",
    "\n",
    "**Economics**:\n",
    "- Models that incorporate the zero lower bound on the nominal interest rate\n",
    "\n",
    "**Finance**:\n",
    "- Stochastic volatility models\n",
    "\n",
    "**Fluid Dynamics**:\n",
    "- Turbulent flow models\n",
    "\n",
    "**Environmental Science**:\n",
    "- Ecological prediction models"
   ]
  },
  {
   "cell_type": "markdown",
   "metadata": {
    "slideshow": {
     "slide_type": "slide"
    }
   },
   "source": [
    "### Particle Filters\n",
    "\n",
    "Insert layout (2,1) plot with normal distr. on the left hand side, and a bi-modal histogram on the right hand side."
   ]
  },
  {
   "cell_type": "markdown",
   "metadata": {
    "slideshow": {
     "slide_type": "slide"
    }
   },
   "source": [
    "# The Tempered Particle Filter\n",
    "\n",
    "Introduced in *\"Tempered Particle Filtering\"* by Ed Herbst (Federal Reserve Board of Governors) and Frank Schorfheide (University of Pennsylvania), to be published in an upcoming edition of the Journal of Econometrics.\n",
    "\n",
    "Working paper available [here](https://economics.yale.edu/sites/default/files/temperedparticlefilter_v15-wivoln.pd_.pdf)"
   ]
  },
  {
   "cell_type": "markdown",
   "metadata": {
    "slideshow": {
     "slide_type": "slide"
    }
   },
   "source": [
    "### The Algorithm\n",
    "\n",
    "1. **Initialization**: Draw $N$ particles $s_0 \\sim p(s_0)$ and initialize $N$ weights $W_0$ each to be $1$.\n",
    "2. **Recursion**: for $t$ in $1,...,T$\n",
    "    1. **Forecast** $s_t$ with the transition equation.\n",
    "    2. **Correction**: Calculate the weights $W_t$ of each particle.\n",
    "    3. **Selection**: Resample the particles, $s_t$.\n",
    "    4. **Sequential Monte Carlo Sampler**\n",
    "        1. Correction\n",
    "        2. Selection\n",
    "        3. Mutation"
   ]
  },
  {
   "cell_type": "markdown",
   "metadata": {
    "slideshow": {
     "slide_type": "slide"
    }
   },
   "source": [
    "### The Genetic Interpretation\n",
    "\n",
    "<img src=\"figures/correction_selection_mutation.png\" width=\"650\">\n",
    "\n",
    "**Figure 1**: An Illustration of Correction-Selection-Mutation"
   ]
  },
  {
   "cell_type": "markdown",
   "metadata": {
    "slideshow": {
     "slide_type": "slide"
    }
   },
   "source": [
    "### What determines the fitness of the herd?\n",
    "\n",
    "<img src=\"figures/weighting_cropped.png\" width=\"500\"> <br>\n",
    "**Figure 2**: Understanding Importance Sampling\n",
    "\n",
    "*Computing in Economics and Finance Workshop 2017 by Ed Herbst and Frank Schorfheide*"
   ]
  },
  {
   "cell_type": "markdown",
   "metadata": {
    "slideshow": {
     "slide_type": "slide"
    }
   },
   "source": [
    "### The Weaknesses of the Bootstrap Particle Filter\n",
    "\n",
    "- The lack of diversity in particle values, leading to less accurate Monte Carlo approximations.\n",
    "- The inability to adapt to periods in which highly unlikely data is realized."
   ]
  },
  {
   "cell_type": "markdown",
   "metadata": {
    "slideshow": {
     "slide_type": "slide"
    }
   },
   "source": [
    "### The Key Insight of the Tempered Particle Filter\n",
    "\n",
    "Increasing the measurement error variance, $\\Sigma_u$, holding all else constant, *decreases* the variance of the particle weights.\n",
    "\n",
    "\n",
    "If the measurement errors are $N(0, \\Sigma_u)$ then the weights are of the form:\n",
    "\n",
    "$$ W^j_t \\propto exp\\big\\{-\\frac{1}{2}(y_t - \\Psi(\\tilde{s}^j_t))^\\prime \\Sigma^{-1}_u(y_t - \\Psi(\\tilde{s}^j_t))\\big\\}$$"
   ]
  },
  {
   "cell_type": "markdown",
   "metadata": {
    "slideshow": {
     "slide_type": "slide"
    }
   },
   "source": [
    "### Using Inflated Measurement Error to build Bridge Distributions\n",
    "\n",
    "<img src=\"figures/tempering_iterations.png\" width=\"700\"> <br>\n",
    "\n",
    "**Figure 3**: Bridge Distributions, $p_n(s_t|y_t)$\n",
    "\n",
    "*Computing in Economics and Finance Workshop 2017 by Ed Herbst and Frank Schorfheide*"
   ]
  },
  {
   "cell_type": "markdown",
   "metadata": {
    "slideshow": {
     "slide_type": "slide"
    }
   },
   "source": [
    "### Benchmark against the Kalman Filter\n",
    "\n",
    "This figure shows the predictive density, $p(y_t|y_{1:t-1})$ for $t = 1, ..., T$ from the linear state space representation of the basic 3-equation New Keynesian model. The bootstrap and tempered particle filter were both run 10 times to produce these results.\n",
    "\n",
    "<img src=\"figures/bootstrap_v_tpf.png\" width=\"600\"> "
   ]
  },
  {
   "cell_type": "code",
   "execution_count": 1,
   "metadata": {
    "slideshow": {
     "slide_type": "slide"
    }
   },
   "outputs": [],
   "source": [
    "# Measuring the filtered states (choose n = 8000)\n",
    "\n",
    "# Grab the same modal parameter that was used to generate the system for the above figure.\n",
    "# Calculate Ψ(s_filt) and plot against the true data for GDP and CPI (horizontal subplots)"
   ]
  },
  {
   "cell_type": "markdown",
   "metadata": {
    "slideshow": {
     "slide_type": "slide"
    }
   },
   "source": [
    "# Computational Details"
   ]
  },
  {
   "cell_type": "markdown",
   "metadata": {
    "slideshow": {
     "slide_type": "slide"
    }
   },
   "source": [
    "### Parallel Computing in Macroeconomics\n",
    "\n",
    "As macroeconomic models become increasingly complex, the methods used to estimate them have become increasingly sophisticated.\n",
    "\n",
    "One common characteristic of many of these methods is that they are parallelizable on some level."
   ]
  },
  {
   "cell_type": "markdown",
   "metadata": {
    "slideshow": {
     "slide_type": "slide"
    }
   },
   "source": [
    "### Parallel Computing Considerations\n",
    "\n",
    "- The size of the computation being parallelized over, and the overall size of the algorithm.\n",
    "- The relevant share of time spent conducting network I/O versus actually computing."
   ]
  },
  {
   "cell_type": "markdown",
   "metadata": {
    "slideshow": {
     "slide_type": "slide"
    }
   },
   "source": [
    "### Performance of TPF Variants ($n_{particles} = 8000$)\n",
    "\n",
    "Add distributed parallel implementation of tpf to this figure\n",
    "\n",
    "<img src=\"figures/parallel_v_serial_time.png\" width=\"650\"> <br>"
   ]
  },
  {
   "cell_type": "markdown",
   "metadata": {
    "slideshow": {
     "slide_type": "slide"
    }
   },
   "source": [
    "### Computation Hurdles We're Still Facing\n",
    "\n",
    "Fortran is still faster by 1 order of magnitude.\n",
    "\n",
    "Insert time table here."
   ]
  },
  {
   "cell_type": "markdown",
   "metadata": {
    "slideshow": {
     "slide_type": "slide"
    }
   },
   "source": [
    "# Conclusion"
   ]
  },
  {
   "cell_type": "markdown",
   "metadata": {
    "slideshow": {
     "slide_type": "slide"
    }
   },
   "source": [
    "### Ongoing work\n",
    "- The tempered particle filter and StateSpaceRoutines.jl\n",
    "- Sequential Monte Carlo sampling in DSGE.jl - a parallelized and robust alternative to Random Walk Metropolis Hastings sampling.\n",
    "- Heterogeneous Agent DSGE models in DSGE.jl\n",
    "\n",
    "### Acknowledgements\n",
    "- NY Fed DSGE Team: Marco Del Negro, Ethan Matlin, and Reca Sarfati\n",
    "- NY Fed DSGE Alumni: Pearl Li and Abhi Gupta (good luck in graduate school!)"
   ]
  },
  {
   "cell_type": "markdown",
   "metadata": {
    "slideshow": {
     "slide_type": "slide"
    }
   },
   "source": [
    "### Thank you!"
   ]
  }
 ],
 "metadata": {
  "celltoolbar": "Slideshow",
  "kernelspec": {
   "display_name": "Julia 0.6.2",
   "language": "julia",
   "name": "julia-0.6"
  },
  "language_info": {
   "file_extension": ".jl",
   "mimetype": "application/julia",
   "name": "julia",
   "version": "0.6.2"
  }
 },
 "nbformat": 4,
 "nbformat_minor": 2
}
